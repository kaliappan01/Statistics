{
  "nbformat": 4,
  "nbformat_minor": 0,
  "metadata": {
    "colab": {
      "name": "Monty-hall-problem.ipynb",
      "provenance": [],
      "authorship_tag": "ABX9TyP3IoEQnxLmZMnoLHh5+9gy",
      "include_colab_link": true
    },
    "kernelspec": {
      "name": "python3",
      "display_name": "Python 3"
    },
    "language_info": {
      "name": "python"
    }
  },
  "cells": [
    {
      "cell_type": "markdown",
      "metadata": {
        "id": "view-in-github",
        "colab_type": "text"
      },
      "source": [
        "<a href=\"https://colab.research.google.com/github/kaliappan01/Statistics/blob/main/Monty_hall_problem.ipynb\" target=\"_parent\"><img src=\"https://colab.research.google.com/assets/colab-badge.svg\" alt=\"Open In Colab\"/></a>"
      ]
    },
    {
      "cell_type": "markdown",
      "metadata": {
        "id": "1DCjcl0-IwuF"
      },
      "source": [
        "The *Monty Hall problem* is a brain teaser, in the form of a probability puzzle, loosely based on the American television game show Let's Make a Deal and named after its original host, Monty Hall.   \n",
        "Behind each door, there is either a car or a goat. You choose a door. The host, Monty Hall, picks one of the other doors, which he knows has a goat behind it, and opens it, showing you the goat. (You know, by the rules of the game, that Monty will always reveal a goat.) Monty then asks whether you would like to switch your choice of door to the other remaining door. Assuming you prefer having a car more than having a goat, do you choose to switch or not to switch"
      ]
    },
    {
      "cell_type": "code",
      "metadata": {
        "id": "sPh5kVMyIjHB"
      },
      "source": [
        "import numpy as np\n",
        "import random\n",
        "import pandas as pd\n",
        "import matplotlib.pyplot as plt\n",
        "import seaborn as sns\n",
        "%matplotlib inline"
      ],
      "execution_count": 2,
      "outputs": []
    },
    {
      "cell_type": "code",
      "metadata": {
        "colab": {
          "base_uri": "https://localhost:8080/",
          "height": 282
        },
        "id": "Sdk_PVxjJTR1",
        "outputId": "491f98f8-fe1b-4677-d70f-24125bbb4539"
      },
      "source": [
        "def play_with_monty(total_games):\n",
        "  switch = 0\n",
        "  dont_switch = 0\n",
        "  for event in range(total_games):\n",
        "    doors = [1,2,3]\n",
        "    door_with_the_car = np.random.choice(doors)\n",
        "    door_choosen_by_player = np.random.choice(doors)\n",
        "    if door_with_the_car==door_choosen_by_player:\n",
        "      dont_switch+=1\n",
        "    else:\n",
        "      switch+=1 \n",
        "  print(\"Probability of win by switch : \",switch/total_games)\n",
        "  plt.hist([\"switch\" for i in range(switch)]+[\"dont switch\" for i in range(dont_switch)])\n",
        "play_with_monty(5000)"
      ],
      "execution_count": 102,
      "outputs": [
        {
          "output_type": "stream",
          "text": [
            "Probability of win by switch :  0.6622\n"
          ],
          "name": "stdout"
        },
        {
          "output_type": "display_data",
          "data": {
            "image/png": "[encoded data removed]",
            "text/plain": [
              "<Figure size 432x288 with 1 Axes>"
            ]
          },
          "metadata": {
            "tags": [],
            "needs_background": "light"
          }
        }
      ]
    },
    {
      "cell_type": "code",
      "metadata": {
        "id": "-_xZDSd-giLE"
      },
      "source": [
        "\n",
        "    # if door_choosen_by_player == door_with_the_car:\n",
        "    #   door_choosen_by_monty = np.random.choice(np.delete(doors,door_choosen_by_player-1))\n",
        "    # else:\n",
        "    #   door_choosen_by_monty = np.random.choice(np.delete(doors,[door_with_the_car-1,door_choosen_by_player-1]))\n",
        "    # switch_door = np.delete(doors,[door_choosen_by_monty-1,door_choosen_by_player-1])\n",
        "    # if switch_door == door_with_the_car:\n",
        "    #   switch+=1\n",
        "    # else:\n",
        "    #   dont_switch+=1"
      ],
      "execution_count": null,
      "outputs": []
    },
    {
      "cell_type": "code",
      "metadata": {
        "id": "Mmi8-7Xmgeck"
      },
      "source": [
        ""
      ],
      "execution_count": null,
      "outputs": []
    }
  ]
}